{
 "cells": [
  {
   "cell_type": "markdown",
   "metadata": {},
   "source": [
    "показать на эксперименте, что верхняя оценка на вероятность коллизии композиционного хеша для строк выполняется O(1/m + L/p). Подробнее в материалах лекции.\n",
    "Построить графики зависимости FPR от длинны строк L и простого модуля p.\n",
    "Эксперименты провести для L = np.linspace(10, 100, 11) и 10 простых чисел p из интервала (100, 1000)\n",
    "Для каждой точки выполнить 10 экспериментов, на графике отобразить стандартное отклонение оценки в каждой точке."
   ]
  },
  {
   "cell_type": "code",
   "execution_count": 3,
   "metadata": {
    "collapsed": true
   },
   "outputs": [],
   "source": [
    "import numpy as np\n",
    "from collections import defaultdict\n",
    "import random\n",
    "import string\n",
    "import matplotlib.pyplot as plt\n",
    "import seaborn as sns\n",
    "%matplotlib inline"
   ]
  },
  {
   "cell_type": "code",
   "execution_count": 5,
   "metadata": {
    "collapsed": true
   },
   "outputs": [],
   "source": [
    "def poly_hash(s, p, x=31):\n",
    "    h = 0\n",
    "    for j in range(len(s)-1, -1, -1):\n",
    "        h = (h * x + ord(s[j]) + p) % p\n",
    "    return h"
   ]
  },
  {
   "cell_type": "code",
   "execution_count": 6,
   "metadata": {
    "collapsed": true
   },
   "outputs": [],
   "source": [
    "def hash_int(x, a=112, b=22, p=997):\n",
    "    return (a*x + b) % 997"
   ]
  },
  {
   "cell_type": "code",
   "execution_count": 7,
   "metadata": {
    "collapsed": true
   },
   "outputs": [],
   "source": [
    "def get_str(l):\n",
    "    letters = list(string.ascii_lowercase)\n",
    "    s = ''.join([random.choice(letters) for i in range(l)])\n",
    "    return s"
   ]
  },
  {
   "cell_type": "code",
   "execution_count": 4,
   "metadata": {},
   "outputs": [],
   "source": [
    "L = np.linspace(10, 100, 11)\n",
    "ps = list(range(100, 1000, 97))"
   ]
  },
  {
   "cell_type": "code",
   "execution_count": 11,
   "metadata": {
    "collapsed": true
   },
   "outputs": [],
   "source": [
    "# считаем число коллизий\n",
    "\n",
    "number_colls = dict()\n",
    "\n",
    "for p in ps:\n",
    "    ls = dict()\n",
    "    for l in L:\n",
    "        colls = list()\n",
    "        for _ in range(10):\n",
    "            strings = [get_str(int(l)) for k in range(100)]\n",
    "            hashs = set(hash_int(poly_hash(s, p)) for s in strings)\n",
    "            colls.append(100 - len(hashs))            \n",
    "        ls[l] = colls\n",
    "        \n",
    "    number_colls[p] = ls"
   ]
  },
  {
   "cell_type": "code",
   "execution_count": 26,
   "metadata": {
    "collapsed": true
   },
   "outputs": [],
   "source": [
    "means_p = list()\n",
    "std_p = list()\n",
    "\n",
    "for p in number_colls:\n",
    "    fpr = list()\n",
    "    for l in L:\n",
    "        for el in number_colls[p][l]:      \n",
    "            fpr.append(el * 2 / 9900)\n",
    "    means_p.append(np.mean(fpr))\n",
    "    std_p.append(np.std(fpr))"
   ]
  },
  {
   "cell_type": "code",
   "execution_count": 14,
   "metadata": {},
   "outputs": [
    {
     "data": {
      "image/png": "[encoded data removed]",
      "text/plain": [
       "<matplotlib.figure.Figure at 0x7f346da53d68>"
      ]
     },
     "metadata": {},
     "output_type": "display_data"
    }
   ],
   "source": [
    "plt.errorbar(ps, means_p, std_p, marker='o')\n",
    "plt.grid(True)\n",
    "plt.xlabel('p')\n",
    "plt.ylabel('FPR')\n",
    "plt.title('FPR vs p')\n",
    "plt.show()"
   ]
  },
  {
   "cell_type": "code",
   "execution_count": 20,
   "metadata": {},
   "outputs": [],
   "source": [
    "means_l = list()\n",
    "std_l = list()\n",
    "\n",
    "for l in L:\n",
    "    for p in number_colls:\n",
    "        fpr = list()\n",
    "        for el in number_colls[p][l]:      \n",
    "            fpr.append(el * 2 / 9900)\n",
    "    means_l.append(np.mean(fpr))\n",
    "    std_l.append(np.std(fpr))"
   ]
  },
  {
   "cell_type": "code",
   "execution_count": 25,
   "metadata": {},
   "outputs": [
    {
     "data": {
      "image/png": "[encoded data removed]",
      "text/plain": [
       "<matplotlib.figure.Figure at 0x7f34712ae208>"
      ]
     },
     "metadata": {},
     "output_type": "display_data"
    }
   ],
   "source": [
    "plt.errorbar(L, means_l, std_l, linestyle='None', marker='o')\n",
    "plt.grid(True)\n",
    "plt.xlabel('L')\n",
    "plt.ylabel('FPR')\n",
    "plt.title('FPR vs L')\n",
    "plt.show()"
   ]
  }
 ],
 "metadata": {
  "kernelspec": {
   "display_name": "Python 3",
   "language": "python",
   "name": "python3"
  },
  "language_info": {
   "codemirror_mode": {
    "name": "ipython",
    "version": 3
   },
   "file_extension": ".py",
   "mimetype": "text/x-python",
   "name": "python",
   "nbconvert_exporter": "python",
   "pygments_lexer": "ipython3",
   "version": "3.6.3"
  }
 },
 "nbformat": 4,
 "nbformat_minor": 2
}
